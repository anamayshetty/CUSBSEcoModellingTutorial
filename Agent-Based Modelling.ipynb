{
 "cells": [
  {
   "cell_type": "code",
   "execution_count": 1,
   "metadata": {},
   "outputs": [],
   "source": [
    "import matplotlib.pyplot as plt\n",
    "import numpy as np\n",
    "from mesa import Agent, Model\n",
    "from mesa.space import SingleGrid\n",
    "from mesa.time import RandomActivation\n",
    "from mesa.datacollection import DataCollector\n",
    "import random\n",
    "import functools"
   ]
  },
  {
   "cell_type": "markdown",
   "metadata": {},
   "source": [
    "# Mesa Example"
   ]
  },
  {
   "cell_type": "code",
   "execution_count": 2,
   "metadata": {},
   "outputs": [],
   "source": [
    "def calculate_total_population(model):\n",
    "    return model.num_agents\n",
    "\n",
    "def population_fraction(clone, model):\n",
    "    N = model.num_agents\n",
    "    agent_list = self.model.schedule.agents\n",
    "    N_clone = 0\n",
    "    for agent in agent_list:\n",
    "        if agent.clone == clone:\n",
    "            N_clone += 1\n",
    "    return N_clone/N"
   ]
  },
  {
   "cell_type": "code",
   "execution_count": 3,
   "metadata": {},
   "outputs": [],
   "source": [
    "class SCGrower(Agent):\n",
    "    def __init__(self, unique_id, model, clone):\n",
    "        super().__init__(unique_id, model)\n",
    "        self.clone = clone\n",
    "    \n",
    "    def step(self):\n",
    "        neighbourhood = [pos for pos in self.model.grid.iter_neighborhood(self.pos, True)]\n",
    "        random.shuffle(neighbourhood)\n",
    "        for pos in neighbourhood:\n",
    "            if self.model.grid.is_cell_empty(pos):\n",
    "                A = SCGrower(self.model.num_agents, self.model, self.clone)\n",
    "                self.model.num_agents += 1\n",
    "                self.model.grid.place_agent(A, pos)\n",
    "                self.model.schedule.add(A)\n",
    "                break\n",
    "                \n",
    "class SCGrowthModel(Model):\n",
    "    def __init__(self, N, width, height):\n",
    "        self.num_agents = N\n",
    "        self.grid = SingleGrid(height, width, False)\n",
    "        self.schedule = RandomActivation(self)\n",
    "        model_reporters = {\"Population\": calculate_total_population}\n",
    "        for i in range(self.num_agents):\n",
    "            a = SCGrower(i, self, i)\n",
    "            self.schedule.add(a)\n",
    "            self.grid.position_agent(a)\n",
    "        \n",
    "        self.datacollector = DataCollector(model_reporters=model_reporters)\n",
    "        self.running = True\n",
    "        self.datacollector.collect(self)\n",
    "\n",
    "    def step(self):\n",
    "        self.schedule.step()\n",
    "        self.datacollector.collect(self)"
   ]
  },
  {
   "cell_type": "code",
   "execution_count": 4,
   "metadata": {},
   "outputs": [
    {
     "name": "stdout",
     "output_type": "stream",
     "text": [
      "    Population\n",
      "0            5\n",
      "1           10\n",
      "2           20\n",
      "3           39\n",
      "4           65\n",
      "5           84\n",
      "6           96\n",
      "7          100\n",
      "8          100\n",
      "9          100\n",
      "10         100\n"
     ]
    }
   ],
   "source": [
    "scg = SCGrowthModel(5, 10, 10)\n",
    "for i in range(10):\n",
    "    scg.step()\n",
    "pop = scg.datacollector.get_model_vars_dataframe()\n",
    "print(pop)"
   ]
  },
  {
   "cell_type": "markdown",
   "metadata": {},
   "source": [
    "# Interactive visualisation"
   ]
  },
  {
   "cell_type": "code",
   "execution_count": 5,
   "metadata": {},
   "outputs": [
    {
     "name": "stdout",
     "output_type": "stream",
     "text": [
      "Interface starting at http://127.0.0.1:8521\n",
      "Socket opened!\n",
      "{\"type\":\"get_params\"}\n",
      "{\"type\":\"reset\"}\n",
      "{\"type\":\"submit_params\",\"param\":\"N\",\"value\":6}\n",
      "{\"type\":\"submit_params\",\"param\":\"N\",\"value\":7}\n",
      "{\"type\":\"reset\"}\n",
      "{\"type\":\"submit_params\",\"param\":\"N\",\"value\":8}\n",
      "{\"type\":\"submit_params\",\"param\":\"N\",\"value\":9}\n",
      "{\"type\":\"submit_params\",\"param\":\"N\",\"value\":10}\n",
      "{\"type\":\"reset\"}\n",
      "{\"type\":\"get_step\",\"step\":1}\n",
      "{\"type\":\"get_step\",\"step\":2}\n",
      "{\"type\":\"get_step\",\"step\":3}\n",
      "{\"type\":\"get_step\",\"step\":4}\n",
      "{\"type\":\"get_step\",\"step\":5}\n",
      "{\"type\":\"get_step\",\"step\":6}\n",
      "{\"type\":\"get_step\",\"step\":7}\n",
      "{\"type\":\"get_step\",\"step\":8}\n",
      "{\"type\":\"get_step\",\"step\":9}\n",
      "{\"type\":\"get_step\",\"step\":10}\n",
      "{\"type\":\"get_step\",\"step\":11}\n",
      "{\"type\":\"get_step\",\"step\":12}\n",
      "{\"type\":\"get_step\",\"step\":13}\n",
      "{\"type\":\"get_step\",\"step\":14}\n",
      "{\"type\":\"get_step\",\"step\":15}\n",
      "{\"type\":\"get_step\",\"step\":16}\n",
      "{\"type\":\"get_step\",\"step\":17}\n",
      "{\"type\":\"get_step\",\"step\":18}\n",
      "{\"type\":\"get_step\",\"step\":19}\n",
      "{\"type\":\"get_step\",\"step\":20}\n",
      "{\"type\":\"get_step\",\"step\":21}\n",
      "{\"type\":\"get_step\",\"step\":22}\n",
      "{\"type\":\"get_step\",\"step\":23}\n",
      "{\"type\":\"get_step\",\"step\":24}\n",
      "{\"type\":\"get_step\",\"step\":25}\n",
      "{\"type\":\"get_step\",\"step\":26}\n",
      "{\"type\":\"get_step\",\"step\":27}\n",
      "{\"type\":\"get_step\",\"step\":28}\n",
      "{\"type\":\"get_step\",\"step\":29}\n",
      "{\"type\":\"get_step\",\"step\":30}\n",
      "{\"type\":\"get_step\",\"step\":31}\n",
      "{\"type\":\"get_step\",\"step\":32}\n",
      "{\"type\":\"reset\"}\n"
     ]
    }
   ],
   "source": [
    "from mesa.visualization.modules import CanvasGrid, ChartModule\n",
    "from mesa.visualization.ModularVisualization import ModularServer\n",
    "from mesa.visualization.UserParam import UserSettableParameter\n",
    "\n",
    "def agent_portrayal(agent):\n",
    "    portrayal = {\"Shape\": \"circle\", \"Filled\": \"true\", \"r\": 0.5, \"Layer\": 0}\n",
    "    colours = [\"red\", \"blue\", \"green\", \"yellow\", \"purple\", \"orange\", \"brown\", \"grey\", \"black\", \"cyan\"]\n",
    "    portrayal[\"Color\"] = colours[agent.clone]\n",
    "    return portrayal\n",
    "\n",
    "grid = CanvasGrid(agent_portrayal, 40, 40, 500, 500)\n",
    "chart = ChartModule([\n",
    "    {\"Label\": \"Population\", \"Color\": \"#0000FF\"}],\n",
    "    data_collector_name='datacollector'\n",
    ")\n",
    "\n",
    "model_params = {\"N\": UserSettableParameter('slider', \"Number of agents\", 5, 1, 10, 1,\n",
    "                               description=\"Choose how many agents to include in the model\"), \"width\": 40, \"height\": 40}\n",
    "server = ModularServer(SCGrowthModel, [grid, chart], \"Spatially-Constrained Growth\", model_params)\n",
    "server.port = 8521\n",
    "server.launch()"
   ]
  },
  {
   "cell_type": "markdown",
   "metadata": {},
   "source": [
    "# Batch Running"
   ]
  },
  {
   "cell_type": "code",
   "execution_count": null,
   "metadata": {},
   "outputs": [],
   "source": [
    "from mesa.batchrunner import BatchRunner\n",
    "\n",
    "fixed_params = {\"N\": 5}\n",
    "variabler_params = {\"width\": range(5, 50, 5), \"height\": range(5, 50, 5)}\n",
    "\n",
    "batch_run = BatchRunner(SCGrowthModel,\n",
    "                        fixed_parameters=fixed_params,\n",
    "                        variable_parameters=variable_params,\n",
    "                        iterations=5,\n",
    "                        max_steps=100,\n",
    "                        model_reporters={}\"Population\": \"compute_population\")"
   ]
  },
  {
   "cell_type": "markdown",
   "metadata": {},
   "source": [
    "# Ecological model"
   ]
  },
  {
   "cell_type": "code",
   "execution_count": null,
   "metadata": {},
   "outputs": [],
   "source": [
    "class Predator(Agent):\n",
    "    def __init__(self, unique_id, model):\n",
    "        super().__init__(unique_id, model)\n",
    "        self.label = \"predator\"\n",
    "        \"\"\"\n",
    "        Initialize state properties\n",
    "        \"\"\"\n",
    "    def step(self):\n",
    "        neighbours = self.model.grid.get_neighbors(self.pos, 1, False)\n",
    "        \"\"\"\n",
    "        Do something based on neighbours, e.g. \n",
    "        self.model.grid.position_agent(agent, x, y)\n",
    "        self.model.grid.remove_agent(agent)\n",
    "        \"\"\"\n",
    "        pass\n",
    "        \n",
    "class Prey(Agent):\n",
    "    def __init__(self, unique_id, model):\n",
    "        super().__init__(unique_id, model)\n",
    "        self.label = \"predator\"\n",
    "        \"\"\"\n",
    "        Initialize state properties\n",
    "        \"\"\"\n",
    "    def step(self):\n",
    "        neighbours = self.model.grid.get_neighbors(self.pos, 1, False)\n",
    "        \"\"\"\n",
    "        Do something based on neighbours, e.g. \n",
    "        self.model.grid.position_agent(agent, x, y)\n",
    "        self.model.grid.remove_agent(agent)\n",
    "        \"\"\"\n",
    "        pass\n",
    "        \n",
    "class Mutual1(Agent):\n",
    "    def __init__(self, unique_id, model):\n",
    "        super().__init__(unique_id, model)\n",
    "        self.label = \"mutual1\"\n",
    "        \"\"\"\n",
    "        Initialize state properties\n",
    "        \"\"\"\n",
    "    def step(self):\n",
    "        neighbours = self.model.grid.get_neighbors(self.pos, 1, False)\n",
    "        \"\"\"\n",
    "        Do something based on neighbours, e.g. \n",
    "        self.model.grid.position_agent(agent, x, y)\n",
    "        self.model.grid.remove_agent(agent)\n",
    "        \"\"\"\n",
    "        pass\n",
    "\n",
    "class Mutual2(Agent):\n",
    "    def __init__(self, unique_id, model):\n",
    "        super().__init__(unique_id, model)\n",
    "        self.label = \"mutual2\"\n",
    "        \"\"\"\n",
    "        Initialize state properties\n",
    "        \"\"\"\n",
    "    def step(self):\n",
    "        neighbours = self.model.grid.get_neighbors(self.pos, 1, False)\n",
    "        \"\"\"\n",
    "        Do something based on neighbours, e.g. \n",
    "        self.model.grid.position_agent(agent, x, y)\n",
    "        self.model.grid.remove_agent(agent)\n",
    "        \"\"\"\n",
    "        pass"
   ]
  },
  {
   "cell_type": "code",
   "execution_count": null,
   "metadata": {},
   "outputs": [],
   "source": [
    "class PredatorPreyModel(Model):\n",
    "    def __init__(self, N_predator, N_prey, width, height):\n",
    "        self.num_predators = N_predator\n",
    "        self.num_prey = N_prey\n",
    "        self.grid = SingleGrid(width, height, False)\n",
    "        self.schedule = RandomActivation(self)\n",
    "        model_reporters = {}\n",
    "        agent_reporters = {}\n",
    "        for i in range(self.num_predators):\n",
    "            a = Predator(i, self)\n",
    "            x = self.grid.position_agent(a)\n",
    "        for i in range(self.num_prey):\n",
    "            a = Prey(i+self.num_predators, self)\n",
    "            a = self.grid.position_agent(a)\n",
    "\n",
    "        self.datacollector = DataCollector(model_reporters=model_reporters, agent_reporters=agent_reporters)\n",
    "        self.running = True\n",
    "        self.datacollector.collect(self)\n",
    "        \n",
    "    def step(self):\n",
    "        self.schedule.step()\n",
    "        self.datacollector.collect(self)"
   ]
  },
  {
   "cell_type": "code",
   "execution_count": null,
   "metadata": {},
   "outputs": [],
   "source": [
    "pp_model = PredatorPreyModel(10,10)"
   ]
  }
 ],
 "metadata": {
  "kernelspec": {
   "display_name": "Python 3",
   "language": "python",
   "name": "python3"
  },
  "language_info": {
   "codemirror_mode": {
    "name": "ipython",
    "version": 3
   },
   "file_extension": ".py",
   "mimetype": "text/x-python",
   "name": "python",
   "nbconvert_exporter": "python",
   "pygments_lexer": "ipython3",
   "version": "3.5.2"
  }
 },
 "nbformat": 4,
 "nbformat_minor": 2
}
